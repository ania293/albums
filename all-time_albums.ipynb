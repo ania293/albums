{
 "cells": [
  {
   "cell_type": "markdown",
   "id": "e1892496",
   "metadata": {},
   "source": [
    "### Best-selling albums\n",
    "A short analysis of the best selling all-time albums downloaded from the official chart webpage:\n",
    "https://www.officialcharts.com/chart-news/the-best-selling-albums-of-all-time-on-the-official-uk-chart__15551/"
   ]
  },
  {
   "cell_type": "code",
   "execution_count": 94,
   "id": "ccf397a4",
   "metadata": {},
   "outputs": [
    {
     "data": {
      "text/html": [
       "<div>\n",
       "<style scoped>\n",
       "    .dataframe tbody tr th:only-of-type {\n",
       "        vertical-align: middle;\n",
       "    }\n",
       "\n",
       "    .dataframe tbody tr th {\n",
       "        vertical-align: top;\n",
       "    }\n",
       "\n",
       "    .dataframe thead th {\n",
       "        text-align: right;\n",
       "    }\n",
       "</style>\n",
       "<table border=\"1\" class=\"dataframe\">\n",
       "  <thead>\n",
       "    <tr style=\"text-align: right;\">\n",
       "      <th></th>\n",
       "      <th>POS</th>\n",
       "      <th>TYTUL</th>\n",
       "      <th>ARTYSTA</th>\n",
       "      <th>ROK</th>\n",
       "      <th>MAX POZ</th>\n",
       "    </tr>\n",
       "  </thead>\n",
       "  <tbody>\n",
       "    <tr>\n",
       "      <th>0</th>\n",
       "      <td>1</td>\n",
       "      <td>GREATEST HITS</td>\n",
       "      <td>QUEEN</td>\n",
       "      <td>1981</td>\n",
       "      <td>1</td>\n",
       "    </tr>\n",
       "    <tr>\n",
       "      <th>1</th>\n",
       "      <td>2</td>\n",
       "      <td>GOLD - GREATEST HITS</td>\n",
       "      <td>ABBA</td>\n",
       "      <td>1992</td>\n",
       "      <td>1</td>\n",
       "    </tr>\n",
       "    <tr>\n",
       "      <th>2</th>\n",
       "      <td>3</td>\n",
       "      <td>SGT PEPPER'S LONELY HEARTS CLUB BAND</td>\n",
       "      <td>BEATLES</td>\n",
       "      <td>1967</td>\n",
       "      <td>1</td>\n",
       "    </tr>\n",
       "    <tr>\n",
       "      <th>3</th>\n",
       "      <td>4</td>\n",
       "      <td>21</td>\n",
       "      <td>ADELE</td>\n",
       "      <td>2011</td>\n",
       "      <td>1</td>\n",
       "    </tr>\n",
       "    <tr>\n",
       "      <th>4</th>\n",
       "      <td>5</td>\n",
       "      <td>WHAT'S THE STORY MORNING GLORY</td>\n",
       "      <td>OASIS</td>\n",
       "      <td>1995</td>\n",
       "      <td>1</td>\n",
       "    </tr>\n",
       "  </tbody>\n",
       "</table>\n",
       "</div>"
      ],
      "text/plain": [
       "   POS                                 TYTUL  ARTYSTA   ROK  MAX POZ\n",
       "0    1                         GREATEST HITS    QUEEN  1981        1\n",
       "1    2                  GOLD - GREATEST HITS     ABBA  1992        1\n",
       "2    3  SGT PEPPER'S LONELY HEARTS CLUB BAND  BEATLES  1967        1\n",
       "3    4                                    21    ADELE  2011        1\n",
       "4    5        WHAT'S THE STORY MORNING GLORY    OASIS  1995        1"
      ]
     },
     "execution_count": 94,
     "metadata": {},
     "output_type": "execute_result"
    }
   ],
   "source": [
    "import pandas as pd\n",
    "\n",
    "## Load data\n",
    "data = pd.read_html('https://www.officialcharts.com/chart-news/the-best-selling-albums-of-all-time-on-the-official-uk-chart__15551/', header=0)[0]\n",
    "data = data.rename(columns={'TITLE':'TYTUL', 'ARTIST':'ARTYSTA','YEAR':'ROK','HIGH POSN':'MAX POZ'})\n",
    "data.head()\n"
   ]
  },
  {
   "cell_type": "markdown",
   "id": "b3640cb3",
   "metadata": {},
   "source": [
    "How many artists are on the list?"
   ]
  },
  {
   "cell_type": "code",
   "execution_count": 95,
   "id": "9da715d5",
   "metadata": {},
   "outputs": [
    {
     "data": {
      "text/plain": [
       "47"
      ]
     },
     "execution_count": 95,
     "metadata": {},
     "output_type": "execute_result"
    }
   ],
   "source": [
    "data['ARTYSTA'].nunique()\n"
   ]
  },
  {
   "cell_type": "markdown",
   "id": "f5999c10",
   "metadata": {},
   "source": [
    "Which artists are the most common?"
   ]
  },
  {
   "cell_type": "code",
   "execution_count": 96,
   "id": "8ed331b2",
   "metadata": {},
   "outputs": [
    {
     "data": {
      "text/plain": [
       "COLDPLAY     3\n",
       "TAKE THAT    3\n",
       "Name: ARTYSTA, dtype: int64"
      ]
     },
     "execution_count": 96,
     "metadata": {},
     "output_type": "execute_result"
    }
   ],
   "source": [
    "data['ARTYSTA'].value_counts()[0:2]"
   ]
  },
  {
   "cell_type": "code",
   "execution_count": 97,
   "id": "377d6e08",
   "metadata": {},
   "outputs": [
    {
     "data": {
      "text/html": [
       "<div>\n",
       "<style scoped>\n",
       "    .dataframe tbody tr th:only-of-type {\n",
       "        vertical-align: middle;\n",
       "    }\n",
       "\n",
       "    .dataframe tbody tr th {\n",
       "        vertical-align: top;\n",
       "    }\n",
       "\n",
       "    .dataframe thead th {\n",
       "        text-align: right;\n",
       "    }\n",
       "</style>\n",
       "<table border=\"1\" class=\"dataframe\">\n",
       "  <thead>\n",
       "    <tr style=\"text-align: right;\">\n",
       "      <th></th>\n",
       "      <th>Pos</th>\n",
       "      <th>Tytul</th>\n",
       "      <th>Artysta</th>\n",
       "      <th>Rok</th>\n",
       "    </tr>\n",
       "  </thead>\n",
       "  <tbody>\n",
       "    <tr>\n",
       "      <th>0</th>\n",
       "      <td>1</td>\n",
       "      <td>GREATEST HITS</td>\n",
       "      <td>QUEEN</td>\n",
       "      <td>1981</td>\n",
       "    </tr>\n",
       "    <tr>\n",
       "      <th>1</th>\n",
       "      <td>2</td>\n",
       "      <td>GOLD - GREATEST HITS</td>\n",
       "      <td>ABBA</td>\n",
       "      <td>1992</td>\n",
       "    </tr>\n",
       "    <tr>\n",
       "      <th>2</th>\n",
       "      <td>3</td>\n",
       "      <td>SGT PEPPER'S LONELY HEARTS CLUB BAND</td>\n",
       "      <td>BEATLES</td>\n",
       "      <td>1967</td>\n",
       "    </tr>\n",
       "    <tr>\n",
       "      <th>3</th>\n",
       "      <td>4</td>\n",
       "      <td>21</td>\n",
       "      <td>ADELE</td>\n",
       "      <td>2011</td>\n",
       "    </tr>\n",
       "    <tr>\n",
       "      <th>4</th>\n",
       "      <td>5</td>\n",
       "      <td>WHAT'S THE STORY MORNING GLORY</td>\n",
       "      <td>OASIS</td>\n",
       "      <td>1995</td>\n",
       "    </tr>\n",
       "  </tbody>\n",
       "</table>\n",
       "</div>"
      ],
      "text/plain": [
       "   Pos                                 Tytul  Artysta   Rok\n",
       "0    1                         GREATEST HITS    QUEEN  1981\n",
       "1    2                  GOLD - GREATEST HITS     ABBA  1992\n",
       "2    3  SGT PEPPER'S LONELY HEARTS CLUB BAND  BEATLES  1967\n",
       "3    4                                    21    ADELE  2011\n",
       "4    5        WHAT'S THE STORY MORNING GLORY    OASIS  1995"
      ]
     },
     "execution_count": 97,
     "metadata": {},
     "output_type": "execute_result"
    }
   ],
   "source": [
    "data = data.rename(str.capitalize, axis='columns')\n",
    "data = data.drop('Max poz',axis=1)\n",
    "data.head()\n"
   ]
  },
  {
   "cell_type": "markdown",
   "id": "56b9ea6a",
   "metadata": {},
   "source": [
    "In which year the highest number of albums were realised?"
   ]
  },
  {
   "cell_type": "code",
   "execution_count": 98,
   "id": "4c75f872",
   "metadata": {},
   "outputs": [
    {
     "data": {
      "text/plain": [
       "2000    4\n",
       "1987    4\n",
       "Name: Rok, dtype: int64"
      ]
     },
     "execution_count": 98,
     "metadata": {},
     "output_type": "execute_result"
    }
   ],
   "source": [
    "year_count = data['Rok'].value_counts()\n",
    "year_count[year_count == max(year_count)]"
   ]
  },
  {
   "cell_type": "markdown",
   "id": "732e2ed2",
   "metadata": {},
   "source": [
    "How many all-time-selling albums were realised between 1960 and 1990?"
   ]
  },
  {
   "cell_type": "code",
   "execution_count": 99,
   "id": "b4e865a1",
   "metadata": {},
   "outputs": [
    {
     "data": {
      "text/plain": [
       "22"
      ]
     },
     "execution_count": 99,
     "metadata": {},
     "output_type": "execute_result"
    }
   ],
   "source": [
    "data[(data['Rok'] >= 1960) & (data['Rok'] <= 1990)].count()['Artysta']"
   ]
  },
  {
   "cell_type": "markdown",
   "id": "ef3fdc27",
   "metadata": {},
   "source": [
    "Which album is the youngest?"
   ]
  },
  {
   "cell_type": "code",
   "execution_count": 100,
   "id": "a6447726",
   "metadata": {},
   "outputs": [
    {
     "data": {
      "text/html": [
       "<div>\n",
       "<style scoped>\n",
       "    .dataframe tbody tr th:only-of-type {\n",
       "        vertical-align: middle;\n",
       "    }\n",
       "\n",
       "    .dataframe tbody tr th {\n",
       "        vertical-align: top;\n",
       "    }\n",
       "\n",
       "    .dataframe thead th {\n",
       "        text-align: right;\n",
       "    }\n",
       "</style>\n",
       "<table border=\"1\" class=\"dataframe\">\n",
       "  <thead>\n",
       "    <tr style=\"text-align: right;\">\n",
       "      <th></th>\n",
       "      <th>Pos</th>\n",
       "      <th>Tytul</th>\n",
       "      <th>Artysta</th>\n",
       "      <th>Rok</th>\n",
       "    </tr>\n",
       "  </thead>\n",
       "  <tbody>\n",
       "    <tr>\n",
       "      <th>26</th>\n",
       "      <td>27</td>\n",
       "      <td>25</td>\n",
       "      <td>ADELE</td>\n",
       "      <td>2015</td>\n",
       "    </tr>\n",
       "  </tbody>\n",
       "</table>\n",
       "</div>"
      ],
      "text/plain": [
       "    Pos Tytul Artysta   Rok\n",
       "26   27    25   ADELE  2015"
      ]
     },
     "execution_count": 100,
     "metadata": {},
     "output_type": "execute_result"
    }
   ],
   "source": [
    "data[data['Rok'] == max(data['Rok'])]\n"
   ]
  },
  {
   "cell_type": "markdown",
   "id": "af709e83",
   "metadata": {},
   "source": [
    "List of all the artists with their earliest album realised from the list."
   ]
  },
  {
   "cell_type": "code",
   "execution_count": 101,
   "id": "a1bff143",
   "metadata": {},
   "outputs": [
    {
     "data": {
      "text/plain": [
       "Artysta\n",
       "ABBA                        1975\n",
       "ADELE                       2011\n",
       "ALANIS MORISSETTE           1995\n",
       "AMY WINEHOUSE               2006\n",
       "BEATLES                     1967\n",
       "BOB MARLEY & THE WAILERS    1984\n",
       "COLDPLAY                    2000\n",
       "CORRS                       1997\n",
       "DAVID GRAY                  1998\n",
       "DIDO                        2000\n",
       "DIRE STRAITS                1985\n",
       "ED SHEERAN                  2014\n",
       "EMINEM                      2000\n",
       "FLEETWOOD MAC               1977\n",
       "GEORGE MICHAEL              1998\n",
       "JAMES BLUNT                 2004\n",
       "JEFF WAYNE                  1978\n",
       "KEANE                       2004\n",
       "KINGS OF LEON               2008\n",
       "LADY GAGA                   2008\n",
       "LEONA LEWIS                 2007\n",
       "MADONNA                     1990\n",
       "MEAT LOAF                   1977\n",
       "MICHAEL BUBLE               2009\n",
       "MICHAEL JACKSON             1982\n",
       "MIKE OLDFIELD               1973\n",
       "NORAH JONES                 2002\n",
       "OASIS                       1995\n",
       "ORIGINAL CAST RECORDING     1965\n",
       "ORIGINAL SOUNDTRACK         1977\n",
       "PAUL SIMON                  1986\n",
       "PHIL COLLINS                1989\n",
       "PINK FLOYD                  1973\n",
       "QUEEN                       1981\n",
       "REM                         1992\n",
       "ROBBIE WILLIAMS             1998\n",
       "SCISSOR SISTERS             2004\n",
       "SHANIA TWAIN                1997\n",
       "SIMON & GARFUNKEL           1970\n",
       "SIMPLY RED                  1991\n",
       "SNOW PATROL                 2006\n",
       "SPICE GIRLS                 1996\n",
       "TAKE THAT                   2005\n",
       "TRACY CHAPMAN               1988\n",
       "TRAVIS                      1999\n",
       "U2                          1987\n",
       "VERVE                       1997\n",
       "Name: Rok, dtype: int64"
      ]
     },
     "execution_count": 101,
     "metadata": {},
     "output_type": "execute_result"
    }
   ],
   "source": [
    "artist_album = data.groupby('Artysta').min('Rok')['Rok']\n",
    "artist_album"
   ]
  },
  {
   "cell_type": "code",
   "execution_count": 103,
   "id": "65f2cb55",
   "metadata": {},
   "outputs": [],
   "source": [
    "## Save a result to the csv\n",
    "artist_album.to_csv('Artist_earliest.csv')"
   ]
  }
 ],
 "metadata": {
  "kernelspec": {
   "display_name": "Python 3 (ipykernel)",
   "language": "python",
   "name": "python3"
  },
  "language_info": {
   "codemirror_mode": {
    "name": "ipython",
    "version": 3
   },
   "file_extension": ".py",
   "mimetype": "text/x-python",
   "name": "python",
   "nbconvert_exporter": "python",
   "pygments_lexer": "ipython3",
   "version": "3.11.0"
  }
 },
 "nbformat": 4,
 "nbformat_minor": 5
}
